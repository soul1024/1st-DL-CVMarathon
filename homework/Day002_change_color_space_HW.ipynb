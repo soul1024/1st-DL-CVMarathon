{
 "cells": [
  {
   "cell_type": "code",
   "execution_count": 6,
   "metadata": {},
   "outputs": [],
   "source": [
    "import cv2\n",
    "import numpy as np\n",
    "\n",
    "data_path = 'data/lena.png'\n",
    "# 以彩色圖片方式載入\n",
    "image_color = cv2.imread(data_path, cv2.IMREAD_COLOR)\n",
    "\n",
    "image_hsv = cv2.cvtColor(image_color, cv2.COLOR_BGR2HLS)\n",
    "\n",
    "image_lab = cv2.cvtColor(image_color, cv2.COLOR_BGR2Lab)\n",
    "\n",
    "while True:\n",
    "    #cv2.imshow('RGB',image_color)\n",
    "    cv2.imshow('rgb',image_color)\n",
    "    cv2.imshow('hls',image_hsv)    \n",
    "    cv2.imshow('lab',image_lab)\n",
    "\n",
    "    k = cv2.waitKey(0)\n",
    "    if k == 27:\n",
    "        cv2.destroyAllWindows()\n",
    "        break"
   ]
  },
  {
   "cell_type": "code",
   "execution_count": null,
   "metadata": {},
   "outputs": [],
   "source": []
  }
 ],
 "metadata": {
  "kernelspec": {
   "display_name": "Python 3",
   "language": "python",
   "name": "python3"
  },
  "language_info": {
   "codemirror_mode": {
    "name": "ipython",
    "version": 3
   },
   "file_extension": ".py",
   "mimetype": "text/x-python",
   "name": "python",
   "nbconvert_exporter": "python",
   "pygments_lexer": "ipython3",
   "version": "3.6.9"
  }
 },
 "nbformat": 4,
 "nbformat_minor": 2
}
